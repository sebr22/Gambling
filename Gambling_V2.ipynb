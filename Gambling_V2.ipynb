{
 "cells": [
  {
   "attachments": {},
   "cell_type": "markdown",
   "metadata": {
    "id": "ghx9ue1gdbnF",
    "tags": []
   },
   "source": [
    "# Train"
   ]
  },
  {
   "cell_type": "code",
   "execution_count": null,
   "metadata": {
    "colab": {
     "base_uri": "https://localhost:8080/"
    },
    "id": "bpnLDIO9heO_",
    "outputId": "6113d54d-a1bd-492e-8e12-b608b261f66b"
   },
   "outputs": [],
   "source": [
    "import pandas as pd\n",
    "import tensorflow as tf\n",
    "print(\"TensorFlow version:\", tf.__version__)\n",
    "import numpy as np\n",
    "\n",
    "# Make numpy values easier to read.\n",
    "np.set_printoptions(precision=3, suppress=True)\n",
    "from tensorflow.keras import layers"
   ]
  },
  {
   "cell_type": "code",
   "execution_count": null,
   "metadata": {
    "id": "WOOm9dfEoUEv"
   },
   "outputs": [],
   "source": [
    "gambling = pd.read_csv(\"output/0.csv\")\n",
    "gambling.head()\n",
    "gambling_features = gambling.copy()\n",
    "gambling_labels = gambling_features.pop('Did_YOU_Win')"
   ]
  },
  {
   "cell_type": "code",
   "execution_count": null,
   "metadata": {
    "colab": {
     "base_uri": "https://localhost:8080/"
    },
    "id": "HzVXVy96odep",
    "outputId": "915c96d7-3c53-4ee4-ce12-3c119bf2a2cd"
   },
   "outputs": [],
   "source": [
    "inputs = {}\n",
    "\n",
    "for name, column in gambling_features.items():\n",
    "  dtype = column.dtype\n",
    "  if dtype == object:\n",
    "    dtype = tf.string\n",
    "  else:\n",
    "    dtype = tf.float32\n",
    "\n",
    "  inputs[name] = tf.keras.Input(shape=(1,), name=name, dtype=dtype)\n",
    "\n",
    "inputs"
   ]
  },
  {
   "cell_type": "code",
   "execution_count": null,
   "metadata": {
    "colab": {
     "base_uri": "https://localhost:8080/"
    },
    "id": "WRPoPdOoozp8",
    "outputId": "46caf897-03a6-479f-c759-b1dc26dc74e0"
   },
   "outputs": [],
   "source": [
    "numeric_inputs = {name:input for name,input in inputs.items()\n",
    "                  if input.dtype==tf.float32}\n",
    "\n",
    "x = layers.Concatenate()(list(numeric_inputs.values()))\n",
    "norm = layers.Normalization()\n",
    "norm.adapt(np.array(gambling[numeric_inputs.keys()]))\n",
    "all_numeric_inputs = norm(x)\n",
    "\n",
    "all_numeric_inputs"
   ]
  },
  {
   "cell_type": "code",
   "execution_count": null,
   "metadata": {
    "id": "WSy2SgK4o8tg"
   },
   "outputs": [],
   "source": [
    "preprocessed_inputs = [all_numeric_inputs]"
   ]
  },
  {
   "cell_type": "code",
   "execution_count": null,
   "metadata": {
    "id": "sZ_N_2xZo_Df"
   },
   "outputs": [],
   "source": [
    "for name, input in inputs.items():\n",
    "  if input.dtype == tf.float32:\n",
    "    continue\n",
    "\n",
    "  lookup = layers.StringLookup(vocabulary=np.unique(gambling_features[name]))\n",
    "  one_hot = layers.CategoryEncoding(num_tokens=lookup.vocabulary_size())\n",
    "\n",
    "  x = lookup(input)\n",
    "  x = one_hot(x)\n",
    "  preprocessed_inputs.append(x)"
   ]
  },
  {
   "cell_type": "code",
   "execution_count": null,
   "metadata": {
    "colab": {
     "base_uri": "https://localhost:8080/",
     "height": 327
    },
    "id": "NoudbcblpDcN",
    "outputId": "b7f9f074-e5e3-4d81-de39-57899eba78fc"
   },
   "outputs": [],
   "source": [
    "preprocessed_inputs_cat = layers.Concatenate()(preprocessed_inputs)\n",
    "\n",
    "gambling_preprocessing = tf.keras.Model(inputs, preprocessed_inputs_cat)\n",
    "\n",
    "tf.keras.utils.plot_model(model = gambling_preprocessing , rankdir=\"LR\", dpi=72, show_shapes=True)"
   ]
  },
  {
   "cell_type": "code",
   "execution_count": null,
   "metadata": {
    "id": "iyxlkp0kpHUm"
   },
   "outputs": [],
   "source": [
    "gambling_features_dict = {name: np.array(value) \n",
    "                         for name, value in gambling_features.items()}"
   ]
  },
  {
   "cell_type": "code",
   "execution_count": null,
   "metadata": {
    "colab": {
     "base_uri": "https://localhost:8080/"
    },
    "id": "90d94Q_kpSLK",
    "outputId": "a7ecacd0-1466-49a9-e4ae-a15d49d0af48"
   },
   "outputs": [],
   "source": [
    "features_dict = {name:values[:1] for name, values in gambling_features_dict.items()}\n",
    "gambling_preprocessing(features_dict)"
   ]
  },
  {
   "cell_type": "code",
   "execution_count": null,
   "metadata": {
    "id": "vruTJrz7pY8E"
   },
   "outputs": [],
   "source": [
    "def gambling_model(preprocessing_head, inputs):\n",
    "  body = tf.keras.Sequential([\n",
    "    layers.Dense(64),\n",
    "    layers.Dense(1),\n",
    "  ])\n",
    "\n",
    "  preprocessed_inputs = preprocessing_head(inputs)\n",
    "  result = body(preprocessed_inputs)\n",
    "  model = tf.keras.Model(inputs, result)\n",
    "\n",
    "  model.compile(loss=tf.keras.losses.BinaryCrossentropy(from_logits=True),\n",
    "                optimizer=tf.keras.optimizers.Adam())\n",
    "  return model\n",
    "\n",
    "gambling_model = gambling_model(gambling_preprocessing, inputs)"
   ]
  },
  {
   "cell_type": "code",
   "execution_count": null,
   "metadata": {
    "colab": {
     "base_uri": "https://localhost:8080/"
    },
    "id": "YrsORFKjpY6v",
    "outputId": "b507d340-82c9-4ef6-a97c-d6bc086edb4e"
   },
   "outputs": [],
   "source": [
    "gambling_model.fit(x=gambling_features_dict, y=gambling_labels, epochs=1000)"
   ]
  },
  {
   "cell_type": "code",
   "execution_count": null,
   "metadata": {
    "id": "ZCN3u4EjUZt7"
   },
   "outputs": [],
   "source": [
    "gambling_model.save('gambling.keras')"
   ]
  },
  {
   "attachments": {},
   "cell_type": "markdown",
   "metadata": {
    "id": "m1_xIXrpdgYS"
   },
   "source": [
    "# Predictions"
   ]
  },
  {
   "cell_type": "code",
   "execution_count": null,
   "metadata": {
    "id": "Uq4ZiVfD7DXO"
   },
   "outputs": [],
   "source": [
    "import pandas as pd\n",
    "\n",
    "# Load the gambling DataFrame from the CSV file\n",
    "gambling = pd.read_csv(\"0.csv\")\n",
    "\n",
    "# Create the gambling_features variable\n",
    "gambling_features = gambling.copy()\n",
    "gambling_labels = gambling_features.pop('Did_YOU_Win')\n"
   ]
  },
  {
   "cell_type": "code",
   "execution_count": null,
   "metadata": {
    "colab": {
     "base_uri": "https://localhost:8080/"
    },
    "id": "C_X2rlZW3oOg",
    "outputId": "58bf8a97-a218-4343-9bb3-4cbd97c43a40"
   },
   "outputs": [],
   "source": [
    "import tensorflow as tf\n",
    "reloaded = tf.keras.models.load_model('gambling.keras')\n",
    "\n",
    "data = [['2 of Hearts', '3 of Clubs', '3 of Spades', 'Jack of Clubs', 'Queen of Spades', '2 of Clubs', '7 of Clubs', 'King of Clubs', '5 of Diamonds', '5 of Clubs', '4 of Hearts', '4 of Diamonds', 'Ace of Clubs', 'Queen of Hearts', 'Jack of Diamonds', '10 of Hearts'],\n",
    "        \"2 of Hearts\",\n",
    "        0,\n",
    "        2]\n",
    "# print(gambling_features)\n",
    "# Create a dictionary with the feature names as keys and the input data as values\n",
    "input_dict = {name: tf.convert_to_tensor([value]) for name, value in zip(gambling_features.columns, data)}\n",
    "\n",
    "# Make a prediction using the input dictionary\n",
    "predictions = gambling_model.predict(input_dict)\n",
    "\n",
    "# Apply the sigmoid function to obtain a probability\n",
    "probabilities = tf.math.sigmoid(predictions)\n",
    "\n",
    "# Extract the probability value\n",
    "probability = probabilities.numpy()[0][0]\n",
    "\n",
    "print(probability)\n"
   ]
  },
  {
   "attachments": {},
   "cell_type": "markdown",
   "metadata": {
    "id": "fAKdHIe43rHn"
   },
   "source": [
    "# Misc"
   ]
  },
  {
   "cell_type": "code",
   "execution_count": null,
   "metadata": {
    "colab": {
     "base_uri": "https://localhost:8080/"
    },
    "id": "HdY2uddBwdjl",
    "outputId": "818b5ca4-e683-4a98-e708-7f9ca0fc638c"
   },
   "outputs": [],
   "source": [
    "import tensorflow as tf\n",
    "\n",
    "data = [['2 of Hearts', '3 of Clubs', '3 of Spades', 'Jack of Clubs', 'Queen of Spades', '2 of Clubs', '7 of Clubs', 'King of Clubs', '5 of Diamonds', '5 of Clubs', '4 of Hearts', '4 of Diamonds', 'Ace of Clubs', 'Queen of Hearts', 'Jack of Diamonds', '10 of Hearts'],\n",
    "        \"2 of Hearts\",\n",
    "        0,\n",
    "        2]\n",
    "\n",
    "# Create a dictionary with the feature names as keys and the input data as values\n",
    "input_dict = {name: tf.convert_to_tensor([value]) for name, value in zip(gambling_features.columns, data)}\n",
    "\n",
    "# Make a prediction using the input dictionary\n",
    "predictions = gambling_model.predict(input_dict)\n",
    "\n",
    "print(predictions)"
   ]
  },
  {
   "cell_type": "code",
   "execution_count": null,
   "metadata": {
    "colab": {
     "base_uri": "https://localhost:8080/"
    },
    "id": "FnSFOzvA71fa",
    "outputId": "2a5385d6-0ab0-4358-d81e-efea9a3aefc8"
   },
   "outputs": [],
   "source": [
    "!pip install tensorflow_decision_forests\n",
    "import tensorflow_decision_forests as tfdf\n",
    "\n",
    "import os\n",
    "import numpy as np\n",
    "import pandas as pd\n",
    "import tensorflow as tf\n",
    "import math"
   ]
  },
  {
   "cell_type": "code",
   "execution_count": null,
   "metadata": {
    "id": "0duaAU657tLP"
   },
   "outputs": [],
   "source": [
    "reloaded = tf.keras.models.load_model('gambling.keras')\n",
    "\n",
    "pd_serving_dataset = pd.DataFrame({\n",
    "    'Drawn_Cards': [str(['2 of Hearts', '3 of Clubs', '3 of Spades', 'Jack of Clubs', 'Queen of Spades', '2 of Clubs', '7 of Clubs', 'King of Clubs', '5 of Diamonds', '5 of Clubs', '4 of Hearts', '4 of Diamonds', 'Ace of Clubs', 'Queen of Hearts', 'Jack of Diamonds', '10 of Hearts'])],\n",
    "    'Dealer_Up': [\"2 of Hearts\"],\n",
    "    'Num_of_Hits': [0],\n",
    "    'Seat_At_Table':[2]\n",
    "})\n",
    "pd_serving_dataset\n",
    "\n",
    "tf_serving_dataset = tfdf.keras.pd_dataframe_to_tf_dataset(pd_serving_dataset)"
   ]
  },
  {
   "cell_type": "code",
   "execution_count": null,
   "metadata": {
    "colab": {
     "base_uri": "https://localhost:8080/"
    },
    "id": "_wyeSPSD9CZy",
    "outputId": "bb57f646-cf99-4c3f-af69-dd256e946f15"
   },
   "outputs": [],
   "source": [
    "pred = reloaded.predict(tf_serving_dataset, verbose=0)[:1][0][0]\n",
    "print(pred)"
   ]
  }
 ],
 "metadata": {
  "accelerator": "GPU",
  "colab": {
   "gpuType": "T4",
   "provenance": []
  },
  "kernelspec": {
   "display_name": "Python 3 (ipykernel)",
   "language": "python",
   "name": "python3"
  },
  "language_info": {
   "codemirror_mode": {
    "name": "ipython",
    "version": 3
   },
   "file_extension": ".py",
   "mimetype": "text/x-python",
   "name": "python",
   "nbconvert_exporter": "python",
   "pygments_lexer": "ipython3",
   "version": "3.10.6"
  }
 },
 "nbformat": 4,
 "nbformat_minor": 4
}
